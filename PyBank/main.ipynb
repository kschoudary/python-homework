{
 "cells": [
  {
   "cell_type": "markdown",
   "metadata": {},
   "source": [
    "This is my first Python Exercise"
   ]
  },
  {
   "cell_type": "code",
   "execution_count": 1,
   "metadata": {},
   "outputs": [],
   "source": [
    "# Import Libraries, here for Pathlib and CSV file\n",
    "from pathlib import Path\n",
    "import csv"
   ]
  },
  {
   "cell_type": "code",
   "execution_count": 2,
   "metadata": {},
   "outputs": [],
   "source": [
    "# Set the Path to the data file from Folder:Resource\n",
    "csvdatafile = Path(\"Resources/budget_data.csv\")"
   ]
  },
  {
   "cell_type": "code",
   "execution_count": 3,
   "metadata": {},
   "outputs": [],
   "source": [
    "# Define Variables\n",
    "monthly_amount = 0\n",
    "premonth_amount = 0\n",
    "amount_changed_thismonth = 0\n",
    "total_no_of_months = 0\n",
    "changed_amount = 0\n",
    "total_no_of_months2 = 0\n",
    "total_changed_amount = 0\n",
    "net_total_amount = 0\n",
    "average_of_changes = 0\n",
    "greatest_increase = 0\n",
    "greatest_decrease = 0\n",
    "gi_month = ' '\n",
    "gd_month = ' '\n",
    "data_records = []"
   ]
  },
  {
   "cell_type": "code",
   "execution_count": 4,
   "metadata": {},
   "outputs": [],
   "source": [
    "# Read from CSV file in READ mode\n",
    "with open(csvdatafile, 'r') as datafile:\n",
    " csvreader = csv.reader(datafile, delimiter=',')\n",
    "\n",
    "# Skip the Header row\n",
    " csv_header  = next(csvreader)\n",
    "# print(csv_header)  \n",
    "\n",
    "# Append the column 'Average' to the header and then to the list of records\n",
    " csv_header.append(\"Average of Changes\")\n",
    " data_records.append(csv_header)\n",
    "\n",
    "# Read the data lines\n",
    " for dataline in csvreader:\n",
    "#     print(dataline) \n",
    "      monthly_amount  = int(dataline[1])\n",
    "      total_no_of_months += 1\n",
    "      net_total_amount += monthly_amount\n",
    "     \n",
    "# Calculate the Average of Changes \n",
    "      if total_no_of_months > 1:\n",
    "        amount_changed_thismonth = monthly_amount - premonth_amount\n",
    "#      print(dataline, premonth_amount, amount_changed_thismonth)\n",
    "      premonth_amount = monthly_amount\n",
    "      dataline.append(int(amount_changed_thismonth))\n",
    "      data_records.append(dataline)\n",
    "      \n",
    "# Calculate the Metrics\n",
    "      total_changed_amount += amount_changed_thismonth\n",
    "      if amount_changed_thismonth > greatest_increase:\n",
    "         greatest_increase = amount_changed_thismonth\n",
    "         gi_month = dataline[0]\n",
    "      if amount_changed_thismonth < greatest_decrease:\n",
    "         greatest_decrease = amount_changed_thismonth \n",
    "         gd_month = dataline[0]\n",
    "average_of_changes = round(total_changed_amount/(total_no_of_months-1), 2) \n",
    "\n",
    "\n"
   ]
  },
  {
   "cell_type": "code",
   "execution_count": 5,
   "metadata": {},
   "outputs": [],
   "source": [
    "# Set the header for output file\n",
    "# newheader = [\"Date\", \"Profit/Losses\", \"Change in Amount\"]\n",
    "\n",
    "# Set Path for output file\n",
    "output_file = Path('new_budget_data.csv')\n",
    "\n",
    "with open(output_file, \"w\") as csvfile:\n",
    "    csvwriter = csv.writer(csvfile, delimiter=',')\n",
    "#    csvwriter.writerow(newheader)\n",
    "    for dataline in data_records:\n",
    "        csvwriter.writerow(dataline)\n",
    "\n"
   ]
  },
  {
   "cell_type": "code",
   "execution_count": 6,
   "metadata": {},
   "outputs": [
    {
     "name": "stdout",
     "output_type": "stream",
     "text": [
      "Financial Analysis\n",
      "___________________________________\n",
      "Total Number of Months: 86\n",
      "Total Amount of Profit/Losses: 38382578\n",
      "Average of Changes: -2315.12\n",
      "Greatest Increase in Profits: Feb-2012 1926159\n",
      "Greatest Decrease in Profits: Sep-2013 -2196167\n",
      "___________________________________\n"
     ]
    }
   ],
   "source": [
    "# Display the Results        \n",
    "print(\"Financial Analysis\")\n",
    "print(\"___________________________________\")\n",
    "print(f\"Total Number of Months: {total_no_of_months}\")\n",
    "print(f\"Total Amount of Profit/Losses: {net_total_amount}\")  \n",
    "print(f\"Average of Changes: {average_of_changes}\") \n",
    "print(f\"Greatest Increase in Profits: {gi_month} {greatest_increase}\") \n",
    "print(f\"Greatest Decrease in Profits: {gd_month} {greatest_decrease}\") \n",
    "print(\"___________________________________\")"
   ]
  }
 ],
 "metadata": {
  "kernelspec": {
   "display_name": "Python 3",
   "language": "python",
   "name": "python3"
  },
  "language_info": {
   "codemirror_mode": {
    "name": "ipython",
    "version": 3
   },
   "file_extension": ".py",
   "mimetype": "text/x-python",
   "name": "python",
   "nbconvert_exporter": "python",
   "pygments_lexer": "ipython3",
   "version": "3.7.6"
  }
 },
 "nbformat": 4,
 "nbformat_minor": 4
}
